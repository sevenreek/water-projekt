{
 "cells": [
  {
   "cell_type": "code",
   "execution_count": 1,
   "source": [
    "%env PYSPARK_PYTHON=python\r\n",
    "%env PYSPARK_DRIVER_PYTHON=jupyter\r\n",
    "\r\n",
    "from pyspark.sql import SparkSession\r\n",
    "from pyspark.sql.types import StructType, StructField, DoubleType, IntegerType, BooleanType\r\n",
    "from pyspark.ml import feature, classification, evaluation, Pipeline\r\n",
    "schema = StructType([\r\n",
    "    StructField(\"ph\", DoubleType(), True),\r\n",
    "    StructField(\"hardness\", DoubleType(), True),\r\n",
    "    StructField(\"solids\", DoubleType(), True),\r\n",
    "    StructField(\"chloramines\", DoubleType(), True),\r\n",
    "    StructField(\"sulfate\", DoubleType(), True),\r\n",
    "    StructField(\"conductivity\", DoubleType(), True),\r\n",
    "    StructField(\"organic_carbon\", DoubleType(), True),\r\n",
    "    StructField(\"trihalomethanes\", DoubleType(), True),\r\n",
    "    StructField(\"turbidity\", DoubleType(), True),\r\n",
    "    StructField(\"potability\", IntegerType(), True),\r\n",
    "])\r\n",
    "\r\n",
    "spark = SparkSession.builder.appName(\"water\").getOrCreate()\r\n",
    "sc = spark.sparkContext\r\n",
    "#df = spark.read.csv(\"./water_potability.csv\", header=False, schema=schema)\r\n",
    "df = spark.read.csv(\"./water_potability.csv\", header=False, schema=schema)\r\n",
    "df.createOrReplaceTempView(\"df\")\r\n",
    "df_train, df_eval = df.randomSplit([0.8,0.2], 42)\r\n",
    "\r\n",
    "\r\n"
   ],
   "outputs": [
    {
     "output_type": "stream",
     "name": "stdout",
     "text": [
      "env: PYSPARK_PYTHON=python\n",
      "env: PYSPARK_DRIVER_PYTHON=jupyter\n"
     ]
    }
   ],
   "metadata": {}
  },
  {
   "cell_type": "code",
   "execution_count": 2,
   "source": [
    "df_train.show(3)\r\n",
    "df_train = df_train.dropna()\r\n",
    "df_train.show(3)"
   ],
   "outputs": [
    {
     "output_type": "stream",
     "name": "stdout",
     "text": [
      "+----+------------------+-----------------+------------------+----------------+------------------+------------------+-----------------+-----------------+----------+\n",
      "|  ph|          hardness|           solids|       chloramines|         sulfate|      conductivity|    organic_carbon|  trihalomethanes|        turbidity|potability|\n",
      "+----+------------------+-----------------+------------------+----------------+------------------+------------------+-----------------+-----------------+----------+\n",
      "|null|              null|             null|              null|            null|              null|              null|             null|             null|      null|\n",
      "|null|  98.3679148956603|28415.57583214058|10.558949998467961|296.843207792478|505.24026927891407|12.882614472289333|85.32995534051292|4.119087300328971|         1|\n",
      "|null|105.85926357195498|37928.14217716675| 5.609440345508508|            null|358.88876761151056|12.207108489369546|71.11989017420973|3.873853349593973|         0|\n",
      "+----+------------------+-----------------+------------------+----------------+------------------+------------------+-----------------+-----------------+----------+\n",
      "only showing top 3 rows\n",
      "\n",
      "+-------------------+------------------+------------------+------------------+------------------+------------------+------------------+------------------+------------------+----------+\n",
      "|                 ph|          hardness|            solids|       chloramines|           sulfate|      conductivity|    organic_carbon|   trihalomethanes|         turbidity|potability|\n",
      "+-------------------+------------------+------------------+------------------+------------------+------------------+------------------+------------------+------------------+----------+\n",
      "|0.22749905020219874| 152.5301111764229|39028.599340290755|3.4624920476792767|283.69378223429663| 443.0292321286284|13.201943203829217| 62.32271110691731| 3.545741437567914|         1|\n",
      "| 0.9899122128791387|133.21694156018071|16922.853898585203|  9.29328864439756| 444.3757306927798|322.29119123589123|10.430076340816356|43.578465511884225|5.1606037881606035|         1|\n",
      "| 1.7570371154907827|147.58183139318666| 41538.24273000266| 7.728177044016057|  376.012933045253|428.44482252009914|10.828696338235147| 65.00583980748948|2.9675541301719313|         1|\n",
      "+-------------------+------------------+------------------+------------------+------------------+------------------+------------------+------------------+------------------+----------+\n",
      "only showing top 3 rows\n",
      "\n"
     ]
    }
   ],
   "metadata": {}
  },
  {
   "cell_type": "code",
   "execution_count": 3,
   "source": [
    "print(df.columns[:-1])\r\n",
    "vect = feature.VectorAssembler(inputCols=df.columns[:-1], outputCol=\"features_raw\")\r\n",
    "df_train_vectorized = vect.transform(df_train)\r\n",
    "df_train_vectorized.show(1)\r\n",
    "df_train_vectorized = df_train_vectorized.select(\"potability\", \"features_raw\")\r\n",
    "\r\n",
    "df_train_vectorized.show(3)\r\n",
    "\r\n"
   ],
   "outputs": [
    {
     "output_type": "stream",
     "name": "stdout",
     "text": [
      "['ph', 'hardness', 'solids', 'chloramines', 'sulfate', 'conductivity', 'organic_carbon', 'trihalomethanes', 'turbidity']\n",
      "+-------------------+-----------------+------------------+------------------+------------------+-----------------+------------------+-----------------+-----------------+----------+--------------------+\n",
      "|                 ph|         hardness|            solids|       chloramines|           sulfate|     conductivity|    organic_carbon|  trihalomethanes|        turbidity|potability|        features_raw|\n",
      "+-------------------+-----------------+------------------+------------------+------------------+-----------------+------------------+-----------------+-----------------+----------+--------------------+\n",
      "|0.22749905020219874|152.5301111764229|39028.599340290755|3.4624920476792767|283.69378223429663|443.0292321286284|13.201943203829217|62.32271110691731|3.545741437567914|         1|[0.22749905020219...|\n",
      "+-------------------+-----------------+------------------+------------------+------------------+-----------------+------------------+-----------------+-----------------+----------+--------------------+\n",
      "only showing top 1 row\n",
      "\n",
      "+----------+--------------------+\n",
      "|potability|        features_raw|\n",
      "+----------+--------------------+\n",
      "|         1|[0.22749905020219...|\n",
      "|         1|[0.98991221287913...|\n",
      "|         1|[1.75703711549078...|\n",
      "+----------+--------------------+\n",
      "only showing top 3 rows\n",
      "\n"
     ]
    }
   ],
   "metadata": {}
  },
  {
   "cell_type": "code",
   "execution_count": 4,
   "source": [
    "scaler = feature.StandardScaler(inputCol=\"features_raw\", outputCol=\"features\")\r\n",
    "scaler_t = scaler.fit(df_train_vectorized)\r\n",
    "df_train_scaled = scaler_t.transform(df_train_vectorized)\r\n",
    "df_train_scaled = df_train_scaled.select(\"potability\", \"features\")\r\n",
    "df_train_scaled.show(2)"
   ],
   "outputs": [
    {
     "output_type": "stream",
     "name": "stdout",
     "text": [
      "+----------+--------------------+\n",
      "|potability|            features|\n",
      "+----------+--------------------+\n",
      "|         1|[0.14545424324450...|\n",
      "|         1|[0.63291223270976...|\n",
      "+----------+--------------------+\n",
      "only showing top 2 rows\n",
      "\n"
     ]
    }
   ],
   "metadata": {}
  },
  {
   "cell_type": "code",
   "execution_count": 5,
   "source": [
    "forest = classification.RandomForestClassifier(featuresCol='features', labelCol='potability',maxDepth=12, minInstancesPerNode=2, seed=42)\r\n",
    "forest_t = forest.fit(df_train_scaled)\r\n",
    "prediction_train = forest_t.transform(df_train_scaled)\r\n",
    "prediction_train.show(3)\r\n"
   ],
   "outputs": [
    {
     "output_type": "stream",
     "name": "stdout",
     "text": [
      "+----------+--------------------+--------------------+--------------------+----------+\n",
      "|potability|            features|       rawPrediction|         probability|prediction|\n",
      "+----------+--------------------+--------------------+--------------------+----------+\n",
      "|         1|[0.14545424324450...|[3.36587301587301...|[0.16829365079365...|       1.0|\n",
      "|         1|[0.63291223270976...|[4.55929339477726...|[0.22796466973886...|       1.0|\n",
      "|         1|[1.12338272955014...|[9.17977912373757...|[0.45898895618687...|       1.0|\n",
      "+----------+--------------------+--------------------+--------------------+----------+\n",
      "only showing top 3 rows\n",
      "\n"
     ]
    }
   ],
   "metadata": {}
  },
  {
   "cell_type": "code",
   "execution_count": 6,
   "source": [
    "binaryevaluator = evaluation.BinaryClassificationEvaluator(\r\n",
    "    labelCol='potability'\r\n",
    "    \r\n",
    ")\r\n",
    "multievaluator = evaluation.MulticlassClassificationEvaluator(\r\n",
    "    labelCol='potability',\r\n",
    "    metricName=\"accuracy\"\r\n",
    ")\r\n",
    "print(binaryevaluator.evaluate(prediction_train))\r\n",
    "print(multievaluator.evaluate(prediction_train))"
   ],
   "outputs": [
    {
     "output_type": "stream",
     "name": "stdout",
     "text": [
      "0.9927757069108063\n",
      "0.935009196811772\n"
     ]
    }
   ],
   "metadata": {}
  },
  {
   "cell_type": "code",
   "execution_count": 7,
   "source": [
    "pipe = Pipeline(stages=[vect, scaler, forest])\r\n",
    "pipeline = pipe.fit(df_train)"
   ],
   "outputs": [],
   "metadata": {}
  },
  {
   "cell_type": "code",
   "execution_count": 8,
   "source": [
    "import pandas as pd\r\n",
    "pandas_df = pd.read_csv('water_potability.csv', header=0)\r\n",
    "pandas_df.drop(labels='Potability', axis=1, inplace=True)\r\n",
    "print(pandas_df.head(3))\r\n",
    "features_limits = {}\r\n",
    "for col in pandas_df.columns:\r\n",
    "        features_limits[col.lower()] = (float(pandas_df[col].min()), float(pandas_df[col].max()))"
   ],
   "outputs": [
    {
     "output_type": "stream",
     "name": "stdout",
     "text": [
      "         ph    Hardness        Solids  Chloramines     Sulfate  Conductivity  \\\n",
      "0       NaN  204.890455  20791.318981     7.300212  368.516441    564.308654   \n",
      "1  3.716080  129.422921  18630.057858     6.635246         NaN    592.885359   \n",
      "2  8.099124  224.236259  19909.541732     9.275884         NaN    418.606213   \n",
      "\n",
      "   Organic_carbon  Trihalomethanes  Turbidity  \n",
      "0       10.379783        86.990970   2.963135  \n",
      "1       15.180013        56.329076   4.500656  \n",
      "2       16.868637        66.420093   3.055934  \n"
     ]
    }
   ],
   "metadata": {}
  },
  {
   "cell_type": "code",
   "execution_count": 9,
   "source": [
    "import random\r\n",
    "uni = random.uniform\r\n",
    "random_features = [random.uniform(*limits) for limits in features_limits.values()]\r\n",
    "random_df = pd.DataFrame({k.lower():v for k,v in zip(pandas_df.columns, random_features) }, index=[0])\r\n",
    "random_spark_df = spark.createDataFrame(random_df)\r\n",
    "random_spark_df.show(1)"
   ],
   "outputs": [
    {
     "output_type": "stream",
     "name": "stdout",
     "text": [
      "         ph   hardness       solids  chloramines     sulfate  conductivity  \\\n",
      "0  8.239299  58.111374  25380.40525    10.104995  213.342585    494.884828   \n",
      "\n",
      "   organic_carbon  trihalomethanes  turbidity  \n",
      "0       20.086055        20.911411   4.119006  \n"
     ]
    }
   ],
   "metadata": {}
  },
  {
   "cell_type": "code",
   "execution_count": 12,
   "source": [
    "prediction = pipeline.transform(random_spark_df)\r\n",
    "prediction.show(1)\r\n",
    "\r\n"
   ],
   "outputs": [
    {
     "output_type": "stream",
     "name": "stdout",
     "text": [
      "+-----------------+-----------------+-----------------+------------------+------------------+-----------------+-----------------+------------------+-----------------+--------------------+--------------------+--------------------+--------------------+----------+\n",
      "|               ph|         hardness|           solids|       chloramines|           sulfate|     conductivity|   organic_carbon|   trihalomethanes|        turbidity|        features_raw|            features|       rawPrediction|         probability|prediction|\n",
      "+-----------------+-----------------+-----------------+------------------+------------------+-----------------+-----------------+------------------+-----------------+--------------------+--------------------+--------------------+--------------------+----------+\n",
      "|8.239298883715975|58.11137403573491|25380.40525048162|10.104994522867138|213.34258476498928|494.8848275975486|20.08605533736839|20.911411383761894|4.119006300352495|[8.23929888371597...|[5.26789445024497...|[9.77198043184885...|[0.48859902159244...|       1.0|\n",
      "+-----------------+-----------------+-----------------+------------------+------------------+-----------------+-----------------+------------------+-----------------+--------------------+--------------------+--------------------+--------------------+----------+\n",
      "\n"
     ]
    }
   ],
   "metadata": {}
  },
  {
   "cell_type": "code",
   "execution_count": 20,
   "source": [
    "from flask import Flask, render_template\r\n",
    "from dataclasses import dataclass, asdict\r\n",
    "app = Flask(__name__)\r\n",
    "\r\n",
    "@dataclass\r\n",
    "class Feature():\r\n",
    "    name:str\r\n",
    "    min:float\r\n",
    "    max:float\r\n",
    "\r\n",
    "@app.route('/')\r\n",
    "def index():\r\n",
    "    features = [asdict(Feature(k, *v)) for k,v in features_limits.items()]\r\n",
    "    return render_template('water.jinja', features=features)\r\n",
    "\r\n"
   ],
   "outputs": [],
   "metadata": {}
  },
  {
   "cell_type": "code",
   "execution_count": 21,
   "source": [
    "app.run()"
   ],
   "outputs": [
    {
     "output_type": "stream",
     "name": "stdout",
     "text": [
      " * Serving Flask app '__main__' (lazy loading)\n",
      " * Environment: production\n",
      "\u001b[31m   WARNING: This is a development server. Do not use it in a production deployment.\u001b[0m\n",
      "\u001b[2m   Use a production WSGI server instead.\u001b[0m\n",
      " * Debug mode: off\n"
     ]
    },
    {
     "output_type": "stream",
     "name": "stderr",
     "text": [
      " * Running on http://127.0.0.1:5000/ (Press CTRL+C to quit)\n",
      "[2022-01-23 20:17:26,608] ERROR in app: Exception on / [GET]\n",
      "Traceback (most recent call last):\n",
      "  File \"C:\\Users\\sevenreek\\AppData\\Roaming\\Python\\Python39\\site-packages\\flask\\app.py\", line 2070, in wsgi_app\n",
      "    response = self.full_dispatch_request()\n",
      "  File \"C:\\Users\\sevenreek\\AppData\\Roaming\\Python\\Python39\\site-packages\\flask\\app.py\", line 1515, in full_dispatch_request\n",
      "    rv = self.handle_user_exception(e)\n",
      "  File \"C:\\Users\\sevenreek\\AppData\\Roaming\\Python\\Python39\\site-packages\\flask\\app.py\", line 1513, in full_dispatch_request\n",
      "    rv = self.dispatch_request()\n",
      "  File \"C:\\Users\\sevenreek\\AppData\\Roaming\\Python\\Python39\\site-packages\\flask\\app.py\", line 1499, in dispatch_request\n",
      "    return self.ensure_sync(self.view_functions[rule.endpoint])(**req.view_args)\n",
      "  File \"C:\\Users\\sevenreek\\AppData\\Local\\Temp\\ipykernel_23432\\2411937443.py\", line 13, in index\n",
      "    features = [asdict(Feature(k, *v)) for k,v in features_limits]\n",
      "  File \"C:\\Users\\sevenreek\\AppData\\Local\\Temp\\ipykernel_23432\\2411937443.py\", line 13, in <listcomp>\n",
      "    features = [asdict(Feature(k, *v)) for k,v in features_limits]\n",
      "TypeError: __init__() missing 1 required positional argument: 'max'\n",
      "127.0.0.1 - - [23/Jan/2022 20:17:26] \"GET / HTTP/1.1\" 500 -\n"
     ]
    }
   ],
   "metadata": {}
  }
 ],
 "metadata": {
  "kernelspec": {
   "name": "python3",
   "display_name": "Python 3.9.7 64-bit ('base': conda)"
  },
  "language_info": {
   "codemirror_mode": {
    "name": "ipython",
    "version": 3
   },
   "file_extension": ".py",
   "mimetype": "text/x-python",
   "name": "python",
   "nbconvert_exporter": "python",
   "pygments_lexer": "ipython3",
   "version": "3.9.7"
  },
  "interpreter": {
   "hash": "88a00c77c53c491d4824ef8921769e83cee7a8b7fd42a00721dd4f22650c6aa3"
  }
 },
 "nbformat": 4,
 "nbformat_minor": 5
}