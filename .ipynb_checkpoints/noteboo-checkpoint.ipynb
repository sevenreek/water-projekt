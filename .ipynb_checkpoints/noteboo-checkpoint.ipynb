{
 "cells": [
  {
   "cell_type": "code",
   "execution_count": 24,
   "id": "ee7994e4",
   "metadata": {},
   "outputs": [],
   "source": [
    "from pyspark.sql import SparkSession\n",
    "from pyspark.sql.types import StructType, StructField, DoubleType, IntegerType, BooleanType\n",
    "from pyspark.ml import feature, classification, evaluation\n",
    "schema = StructType([\n",
    "    StructField(\"ph\", DoubleType(), True),\n",
    "    StructField(\"hardness\", DoubleType(), True),\n",
    "    StructField(\"solids\", DoubleType(), True),\n",
    "    StructField(\"chloramines\", DoubleType(), True),\n",
    "    StructField(\"sulfate\", DoubleType(), True),\n",
    "    StructField(\"conductivity\", DoubleType(), True),\n",
    "    StructField(\"organic_carbon\", DoubleType(), True),\n",
    "    StructField(\"trihalomethanes\", DoubleType(), True),\n",
    "    StructField(\"turbidity\", DoubleType(), True),\n",
    "    StructField(\"potability\", IntegerType(), True),\n",
    "])\n",
    "\n",
    "spark = SparkSession.builder.appName(\"water\").getOrCreate()\n",
    "#df = spark.read.csv(\"./water_potability.csv\", header=False, schema=schema)\n",
    "df = spark.read.csv(\"./water_potability.csv\", header=False, schema=schema)\n",
    "df.createOrReplaceTempView(\"df\")\n",
    "df_train, df_eval = df.randomSplit([0.8,0.2], 42)\n",
    "\n",
    "\n"
   ]
  },
  {
   "cell_type": "code",
   "execution_count": 25,
   "id": "eec13bbc",
   "metadata": {},
   "outputs": [
    {
     "name": "stdout",
     "output_type": "stream",
     "text": [
      "+----+------------------+-----------------+------------------+----------------+------------------+------------------+-----------------+-----------------+----------+\n",
      "|  ph|          hardness|           solids|       chloramines|         sulfate|      conductivity|    organic_carbon|  trihalomethanes|        turbidity|potability|\n",
      "+----+------------------+-----------------+------------------+----------------+------------------+------------------+-----------------+-----------------+----------+\n",
      "|null|              null|             null|              null|            null|              null|              null|             null|             null|      null|\n",
      "|null|  98.3679148956603|28415.57583214058|10.558949998467961|296.843207792478|505.24026927891407|12.882614472289333|85.32995534051292|4.119087300328971|         1|\n",
      "|null|105.85926357195498|37928.14217716675| 5.609440345508508|            null|358.88876761151056|12.207108489369546|71.11989017420973|3.873853349593973|         0|\n",
      "+----+------------------+-----------------+------------------+----------------+------------------+------------------+-----------------+-----------------+----------+\n",
      "only showing top 3 rows\n",
      "\n",
      "+-------------------+------------------+------------------+------------------+------------------+------------------+------------------+------------------+------------------+----------+\n",
      "|                 ph|          hardness|            solids|       chloramines|           sulfate|      conductivity|    organic_carbon|   trihalomethanes|         turbidity|potability|\n",
      "+-------------------+------------------+------------------+------------------+------------------+------------------+------------------+------------------+------------------+----------+\n",
      "|0.22749905020219874| 152.5301111764229|39028.599340290755|3.4624920476792767|283.69378223429663| 443.0292321286284|13.201943203829217| 62.32271110691731| 3.545741437567914|         1|\n",
      "| 0.9899122128791387|133.21694156018071|16922.853898585203|  9.29328864439756| 444.3757306927798|322.29119123589123|10.430076340816356|43.578465511884225|5.1606037881606035|         1|\n",
      "| 1.7570371154907827|147.58183139318666| 41538.24273000266| 7.728177044016057|  376.012933045253|428.44482252009914|10.828696338235147| 65.00583980748948|2.9675541301719313|         1|\n",
      "+-------------------+------------------+------------------+------------------+------------------+------------------+------------------+------------------+------------------+----------+\n",
      "only showing top 3 rows\n",
      "\n"
     ]
    }
   ],
   "source": [
    "df_train.show(3)\n",
    "df_train = df_train.dropna()\n",
    "df_train.show(3)"
   ]
  },
  {
   "cell_type": "code",
   "execution_count": 31,
   "id": "085a1e50",
   "metadata": {},
   "outputs": [
    {
     "name": "stdout",
     "output_type": "stream",
     "text": [
      "['ph', 'hardness', 'solids', 'chloramines', 'sulfate', 'conductivity', 'organic_carbon', 'trihalomethanes', 'turbidity']\n",
      "+-------------------+-----------------+------------------+------------------+------------------+-----------------+------------------+-----------------+-----------------+----------+--------------------+\n",
      "|                 ph|         hardness|            solids|       chloramines|           sulfate|     conductivity|    organic_carbon|  trihalomethanes|        turbidity|potability|        features_raw|\n",
      "+-------------------+-----------------+------------------+------------------+------------------+-----------------+------------------+-----------------+-----------------+----------+--------------------+\n",
      "|0.22749905020219874|152.5301111764229|39028.599340290755|3.4624920476792767|283.69378223429663|443.0292321286284|13.201943203829217|62.32271110691731|3.545741437567914|         1|[0.22749905020219...|\n",
      "+-------------------+-----------------+------------------+------------------+------------------+-----------------+------------------+-----------------+-----------------+----------+--------------------+\n",
      "only showing top 1 row\n",
      "\n",
      "+----------+--------------------+\n",
      "|potability|        features_raw|\n",
      "+----------+--------------------+\n",
      "|         1|[0.22749905020219...|\n",
      "|         1|[0.98991221287913...|\n",
      "|         1|[1.75703711549078...|\n",
      "+----------+--------------------+\n",
      "only showing top 3 rows\n",
      "\n"
     ]
    }
   ],
   "source": [
    "print(df.columns[:-1])\n",
    "vect = feature.VectorAssembler(inputCols=df.columns[:-1], outputCol=\"features_raw\")\n",
    "df_train_vectorized = vect.transform(df_train)\n",
    "df_train_vectorized.show(1)\n",
    "df_train_vectorized = df_train_vectorized.select(\"potability\", \"features_raw\")\n",
    "\n",
    "df_train_vectorized.show(3)\n",
    "\n"
   ]
  },
  {
   "cell_type": "code",
   "execution_count": 34,
   "id": "321f63b6",
   "metadata": {},
   "outputs": [
    {
     "name": "stdout",
     "output_type": "stream",
     "text": [
      "+----------+--------------------+\n",
      "|potability|            features|\n",
      "+----------+--------------------+\n",
      "|         1|[0.14545424324450...|\n",
      "|         1|[0.63291223270976...|\n",
      "+----------+--------------------+\n",
      "only showing top 2 rows\n",
      "\n"
     ]
    }
   ],
   "source": [
    "scaler = feature.StandardScaler(inputCol=\"features_raw\", outputCol=\"features\")\n",
    "scaler_t = scaler.fit(df_train_vectorized)\n",
    "df_train_scaled = scaler_t.transform(df_train_vectorized)\n",
    "df_train_scaled = df_train_scaled.select(\"potability\", \"features\")\n",
    "df_train_scaled.show(2)"
   ]
  },
  {
   "cell_type": "code",
   "execution_count": 42,
   "id": "2b4f8609",
   "metadata": {},
   "outputs": [
    {
     "name": "stdout",
     "output_type": "stream",
     "text": [
      "+----------+--------------------+--------------------+--------------------+----------+\n",
      "|potability|            features|       rawPrediction|         probability|prediction|\n",
      "+----------+--------------------+--------------------+--------------------+----------+\n",
      "|         1|[0.14545424324450...|[9.34231037970611...|[0.46711551898530...|       1.0|\n",
      "|         1|[0.63291223270976...|[7.67136337670512...|[0.38356816883525...|       1.0|\n",
      "|         1|[1.12338272955014...|[10.4771090484300...|[0.52385545242150...|       0.0|\n",
      "+----------+--------------------+--------------------+--------------------+----------+\n",
      "only showing top 3 rows\n",
      "\n"
     ]
    }
   ],
   "source": [
    "forest = classification.RandomForestClassifier(featuresCol='features', labelCol='potability',maxDepth=8, minInstancesPerNode=5, seed=42)\n",
    "forest_t = forest.fit(df_train_scaled)\n",
    "prediction_train = forest_t.transform(df_train_scaled)\n",
    "prediction_train.show(3)\n"
   ]
  },
  {
   "cell_type": "code",
   "execution_count": 45,
   "id": "129cfeff",
   "metadata": {},
   "outputs": [
    {
     "name": "stdout",
     "output_type": "stream",
     "text": [
      "0.9113604816195348\n",
      "0.7664009809932557\n"
     ]
    }
   ],
   "source": [
    "binaryevaluator = evaluation.BinaryClassificationEvaluator(\n",
    "    labelCol='potability'\n",
    "    \n",
    ")\n",
    "multievaluator = evaluation.MulticlassClassificationEvaluator(\n",
    "    labelCol='potability',\n",
    "    metricName=\"accuracy\"\n",
    ")\n",
    "print(binaryevaluator.evaluate(prediction_train))\n",
    "print(multievaluator.evaluate(prediction_train))"
   ]
  },
  {
   "cell_type": "code",
   "execution_count": null,
   "id": "ec07b2b1",
   "metadata": {},
   "outputs": [],
   "source": []
  }
 ],
 "metadata": {
  "kernelspec": {
   "display_name": "Python 3 (ipykernel)",
   "language": "python",
   "name": "python3"
  },
  "language_info": {
   "codemirror_mode": {
    "name": "ipython",
    "version": 3
   },
   "file_extension": ".py",
   "mimetype": "text/x-python",
   "name": "python",
   "nbconvert_exporter": "python",
   "pygments_lexer": "ipython3",
   "version": "3.9.7"
  }
 },
 "nbformat": 4,
 "nbformat_minor": 5
}
